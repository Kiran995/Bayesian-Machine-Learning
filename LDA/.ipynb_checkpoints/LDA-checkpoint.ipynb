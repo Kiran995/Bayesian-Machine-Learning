{
 "cells": [
  {
   "cell_type": "code",
   "execution_count": 1,
   "id": "41e05a2f",
   "metadata": {},
   "outputs": [],
   "source": [
    "import re\n",
    "import numpy as np\n",
    "from collections import Counter\n",
    "\n",
    "import pandas as pd\n",
    "import seaborn as sns\n",
    "import matplotlib.pyplot as plt"
   ]
  },
  {
   "cell_type": "code",
   "execution_count": 2,
   "id": "41d33c05",
   "metadata": {},
   "outputs": [],
   "source": [
    "#todo: increase doc collections: news dataset \n",
    "doc = {\n",
    "    0: \"quick brown fox jumps over the lazy dog\", \n",
    "    1: \"bank is near the bank hello is a\"\n",
    "}"
   ]
  },
  {
   "cell_type": "code",
   "execution_count": 3,
   "id": "f102db66",
   "metadata": {},
   "outputs": [],
   "source": [
    "def text_preprocess(text):\n",
    "    text = re.sub(r'[^a-zA-Z]+', ' ', text).strip()\n",
    "    text = re.sub(' +', ' ', text)\n",
    "    text = text.split(' ')\n",
    "    text = [w.lower() for w in text]\n",
    "    return text\n",
    "\n",
    "vocabulary = []\n",
    "for k, d in doc.items():\n",
    "    doc[k] = text_preprocess(d)\n",
    "    vocabulary.extend(doc[k])"
   ]
  },
  {
   "cell_type": "code",
   "execution_count": 4,
   "id": "658d8939",
   "metadata": {},
   "outputs": [],
   "source": [
    "vocabulary = list(set(vocabulary))"
   ]
  },
  {
   "cell_type": "code",
   "execution_count": 5,
   "id": "9c831a75",
   "metadata": {},
   "outputs": [],
   "source": [
    "D = len(doc)\n",
    "K = 2\n",
    "V = len(vocabulary)\n",
    "\n",
    "\n",
    "c = np.zeros([D, K])\n",
    "n = np.zeros([K, V])\n",
    "C = np.zeros(D)\n",
    "N = np.zeros(K)"
   ]
  },
  {
   "cell_type": "code",
   "execution_count": 6,
   "id": "0f85ff5e",
   "metadata": {},
   "outputs": [],
   "source": [
    "Z = []\n",
    "W = []\n",
    "\n",
    "for k, v in doc.items():\n",
    "    W.append(np.array(v))\n",
    "    z = np.array([np.random.choice(K, 1)[0] for i in v])\n",
    "    Z.append(z)\n",
    "\n",
    "Z = np.array(Z)\n",
    "W = np.array(W)"
   ]
  },
  {
   "cell_type": "code",
   "execution_count": 7,
   "id": "d79f49aa",
   "metadata": {},
   "outputs": [
    {
     "data": {
      "text/plain": [
       "array([[0., 0., 0., 0., 0., 0., 0., 0., 0., 0., 0., 0., 0.],\n",
       "       [0., 0., 0., 0., 0., 0., 0., 0., 0., 0., 0., 0., 0.]])"
      ]
     },
     "execution_count": 7,
     "metadata": {},
     "output_type": "execute_result"
    }
   ],
   "source": [
    "n"
   ]
  },
  {
   "cell_type": "code",
   "execution_count": 8,
   "id": "6446c1b3",
   "metadata": {},
   "outputs": [],
   "source": [
    "def update(c, n, C, N):\n",
    "    for d, _ in doc.items():\n",
    "        k_count_in_a_doc = Counter(Z[d])\n",
    "        \n",
    "        C_d = 0\n",
    "        \n",
    "        for k in range(K):\n",
    "            c[d][k] = k_count_in_a_doc[k]\n",
    "            C_d += k_count_in_a_doc[k]\n",
    "            \n",
    "        C[d] = C_d\n",
    "        \n",
    "    for k in range(K):\n",
    "        W_k = [] \n",
    "        \n",
    "        for key, _ in doc.items():\n",
    "            index = np.where(Z[key] == k)[0]\n",
    "            \n",
    "            if len(index)>0:\n",
    "                W_k.extend(W[key][index])\n",
    "                \n",
    "        count = Counter(W_k)\n",
    "        \n",
    "        for v in range(V):\n",
    "            n[k][v] = count[vocabulary[v]]\n",
    "            \n",
    "        N[k] = len(W_k)"
   ]
  },
  {
   "cell_type": "code",
   "execution_count": 9,
   "id": "ab9762bc",
   "metadata": {},
   "outputs": [],
   "source": [
    "update(c, n, C, N)"
   ]
  },
  {
   "cell_type": "code",
   "execution_count": 10,
   "id": "521566e8",
   "metadata": {},
   "outputs": [
    {
     "data": {
      "text/plain": [
       "array([[1., 1., 1., 0., 0., 1., 0., 1., 0., 1., 0., 0., 1.],\n",
       "       [0., 0., 0., 1., 2., 0., 1., 0., 2., 0., 1., 1., 1.]])"
      ]
     },
     "execution_count": 10,
     "metadata": {},
     "output_type": "execute_result"
    }
   ],
   "source": [
    "n"
   ]
  },
  {
   "cell_type": "markdown",
   "id": "d898d58c",
   "metadata": {},
   "source": [
    "Algorithm"
   ]
  },
  {
   "cell_type": "code",
   "execution_count": 11,
   "id": "e0d6292b",
   "metadata": {},
   "outputs": [],
   "source": [
    "A = 0.1\n",
    "B = 0.1 \n",
    "\n",
    "for _ in range(100):\n",
    "    for d, v in doc.items():\n",
    "        for w in range(len(v)):\n",
    "            k_word = Z[d][w]\n",
    "            i_word = vocabulary.index(doc[d][w])\n",
    "\n",
    "            c[d][k_word] = c[d][k_word] - 1\n",
    "\n",
    "            n[k_word][i_word] = n[k_word][i_word] - 1 \n",
    "\n",
    "\n",
    "            prob_k = []\n",
    "\n",
    "            for k in range(K):\n",
    "                dt_term = (c[d][k] + A/K) / (C[d] + A - 1)\n",
    "\n",
    "                if N[k] == 0: \n",
    "                    N[k] += 1 \n",
    "                tw_term = (n[k][i_word] + B/V) / (N[k] + B - 1)\n",
    "\n",
    "                prob_k.append(dt_term * tw_term)\n",
    "\n",
    "            total_prob = np.sum(prob_k)\n",
    "\n",
    "            prob_k = [p/total_prob for p in prob_k]\n",
    "\n",
    "            Z[d][w] = np.random.choice(K, 1, p=prob_k)[0]\n",
    "\n",
    "            update(c, n, C, N)"
   ]
  },
  {
   "cell_type": "code",
   "execution_count": 12,
   "id": "4d102c3d",
   "metadata": {},
   "outputs": [
    {
     "data": {
      "text/plain": [
       "array([[1., 1., 1., 0., 0., 0., 0., 0., 0., 1., 0., 0., 0.],\n",
       "       [0., 0., 0., 1., 2., 1., 1., 1., 2., 0., 1., 1., 2.]])"
      ]
     },
     "execution_count": 12,
     "metadata": {},
     "output_type": "execute_result"
    }
   ],
   "source": [
    "n"
   ]
  },
  {
   "cell_type": "code",
   "execution_count": 13,
   "id": "f89f6fa5",
   "metadata": {},
   "outputs": [
    {
     "data": {
      "text/plain": [
       "array([ 4., 12.])"
      ]
     },
     "execution_count": 13,
     "metadata": {},
     "output_type": "execute_result"
    }
   ],
   "source": [
    "N"
   ]
  },
  {
   "cell_type": "markdown",
   "id": "245828b3",
   "metadata": {},
   "source": [
    "### topic word distribution visualisation"
   ]
  },
  {
   "cell_type": "code",
   "execution_count": 14,
   "id": "dee66288",
   "metadata": {},
   "outputs": [],
   "source": [
    "topic_word_dist = {} \n",
    "\n",
    "for k in range(K):\n",
    "    assign_word_in_topic = []\n",
    "    \n",
    "    for key, _ in doc.items():\n",
    "        index = np.where(Z[key] == k)[0]\n",
    "        \n",
    "        if len(index) > 0:\n",
    "            assign_word_in_topic.extend(W[key][index])\n",
    "\n",
    "    count = Counter(assign_word_in_topic)\n",
    "    total = np.sum(list(count.values()))\n",
    "    \n",
    "    topic_word_dist[k] = [round(count[vocabulary[v]]/total, 2) for v in range(V)]"
   ]
  },
  {
   "cell_type": "code",
   "execution_count": 15,
   "id": "3a9e0d84",
   "metadata": {},
   "outputs": [
    {
     "data": {
      "text/plain": [
       "{0: [0.25, 0.25, 0.25, 0.0, 0.0, 0.0, 0.0, 0.0, 0.0, 0.25, 0.0, 0.0, 0.0],\n",
       " 1: [0.0, 0.0, 0.0, 0.08, 0.17, 0.08, 0.08, 0.08, 0.17, 0.0, 0.08, 0.08, 0.17]}"
      ]
     },
     "execution_count": 15,
     "metadata": {},
     "output_type": "execute_result"
    }
   ],
   "source": [
    "topic_word_dist"
   ]
  },
  {
   "cell_type": "code",
   "execution_count": 16,
   "id": "eef1d1df",
   "metadata": {},
   "outputs": [
    {
     "data": {
      "text/plain": [
       "Text(0.5, 1.0, 'Topic word distribution')"
      ]
     },
     "execution_count": 16,
     "metadata": {},
     "output_type": "execute_result"
    },
    {
     "data": {
      "image/png": "[encoded data removed]",
      "text/plain": [
       "<Figure size 1080x360 with 2 Axes>"
      ]
     },
     "metadata": {
      "needs_background": "light"
     },
     "output_type": "display_data"
    }
   ],
   "source": [
    "df = pd.DataFrame(topic_word_dist).T\n",
    "df.columns = vocabulary\n",
    "\n",
    "plt.figure(figsize=(15,5))\n",
    "sns.heatmap(df, annot=True, cmap='YlGnBu')\n",
    "plt.xlabel('word')\n",
    "plt.ylabel('Topic')\n",
    "plt.title('Topic word distribution')"
   ]
  },
  {
   "cell_type": "markdown",
   "id": "fccc0747",
   "metadata": {},
   "source": [
    "### Document topic distribution Visualisation"
   ]
  },
  {
   "cell_type": "code",
   "execution_count": 17,
   "id": "d9c532b4",
   "metadata": {},
   "outputs": [],
   "source": [
    "doc_topic_dist = {}\n",
    "\n",
    "for key, _ in doc.items():\n",
    "    count = Counter(Z[key])\n",
    "    \n",
    "    total = np.sum(list(count.values()))\n",
    "    \n",
    "    doc_topic_dist[key] = [count[k]/total for k in range(K)]"
   ]
  },
  {
   "cell_type": "code",
   "execution_count": 18,
   "id": "7d48dc87",
   "metadata": {},
   "outputs": [
    {
     "data": {
      "text/plain": [
       "Text(0.5, 1.0, 'Document topic distribution')"
      ]
     },
     "execution_count": 18,
     "metadata": {},
     "output_type": "execute_result"
    },
    {
     "data": {
      "image/png": "[encoded data removed]",
      "text/plain": [
       "<Figure size 1080x360 with 2 Axes>"
      ]
     },
     "metadata": {
      "needs_background": "light"
     },
     "output_type": "display_data"
    }
   ],
   "source": [
    "df = pd.DataFrame(doc_topic_dist).T\n",
    "\n",
    "plt.figure(figsize=(15,5))\n",
    "sns.heatmap(df, annot=True, cmap='YlGnBu')\n",
    "plt.xlabel('Topic')\n",
    "plt.ylabel('Document')\n",
    "plt.title('Document topic distribution')"
   ]
  },
  {
   "cell_type": "code",
   "execution_count": null,
   "id": "977e3980",
   "metadata": {},
   "outputs": [],
   "source": []
  }
 ],
 "metadata": {
  "kernelspec": {
   "display_name": "Python 3 (ipykernel)",
   "language": "python",
   "name": "python3"
  },
  "language_info": {
   "codemirror_mode": {
    "name": "ipython",
    "version": 3
   },
   "file_extension": ".py",
   "mimetype": "text/x-python",
   "name": "python",
   "nbconvert_exporter": "python",
   "pygments_lexer": "ipython3",
   "version": "3.8.10"
  }
 },
 "nbformat": 4,
 "nbformat_minor": 5
}
