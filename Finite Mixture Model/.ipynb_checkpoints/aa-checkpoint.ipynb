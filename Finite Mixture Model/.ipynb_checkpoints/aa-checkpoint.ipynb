{
 "cells": [
  {
   "cell_type": "code",
   "execution_count": 58,
   "id": "e07f9e06",
   "metadata": {},
   "outputs": [],
   "source": [
    "import numpy as np\n",
    "import matplotlib.pyplot as plt\n",
    "from collections import Counter\n",
    "import itertools\n",
    "import random\n",
    "import pandas as pd\n",
    "import matplotlib \n",
    "from tqdm import tqdm\n",
    "\n",
    "from scipy.stats import invwishart\n",
    "\n",
    "\n",
    "matplotlib.rcParams['figure.figsize'] = (16, 16)"
   ]
  },
  {
   "cell_type": "code",
   "execution_count": 27,
   "id": "d50fcf0b",
   "metadata": {},
   "outputs": [],
   "source": [
    "# params = [\n",
    "#             {\"pi\": 0.1, \"mu\": (3, 5), \"covariance\": [[0.8, 0.5], [0.5, 0.9]]},\n",
    "#             {\"pi\": 0.6, \"mu\": (5, 2), \"covariance\": [[0.6, 0.2], [0.2, 0.5]]},\n",
    "#             {\"pi\": 0.3, \"mu\": (8, 6), \"covariance\": [[1, 0], [0, 1]]}\n",
    "#         ]\n",
    "params = [\n",
    "            {\"pi\": 0.1, \"mu\": (3, 5), \"covariance\": [[0.8, 0.5], [0.5, 0.9]]},\n",
    "            {\"pi\": 0.6, \"mu\": (10, 20), \"covariance\": [[0.6, 0.2], [0.2, 0.5]]},\n",
    "            {\"pi\": 0.3, \"mu\": (30, 40), \"covariance\": [[1, 0], [0, 1]]}\n",
    "        ]"
   ]
  },
  {
   "cell_type": "code",
   "execution_count": 28,
   "id": "47c7763a",
   "metadata": {},
   "outputs": [],
   "source": [
    "total_toss = 900\n",
    "num_cluster = len(params)"
   ]
  },
  {
   "cell_type": "code",
   "execution_count": 29,
   "id": "4d351b0f",
   "metadata": {},
   "outputs": [],
   "source": [
    "def gen_data(num_cluster, total_toss):\n",
    "    Z = [np.random.choice(num_cluster, 1, p=[params[i]['pi'] for i in range(num_cluster)])[0] for n_toss in range(total_toss)]\n",
    "    data_dist = Counter(Z)\n",
    "    data = {}\n",
    "    for i in range(0, num_cluster):\n",
    "        if data_dist[i] != 0: \n",
    "            data[i] = np.squeeze(np.random.multivariate_normal(params[i][\"mu\"], params[i][\"covariance\"], (1, data_dist[i])))\n",
    "    return Z, data"
   ]
  },
  {
   "cell_type": "code",
   "execution_count": 30,
   "id": "7c3c34f7",
   "metadata": {},
   "outputs": [],
   "source": [
    "actual_Z, data = gen_data(num_cluster, total_toss)"
   ]
  },
  {
   "cell_type": "code",
   "execution_count": 31,
   "id": "0b6f36a8",
   "metadata": {},
   "outputs": [],
   "source": [
    "d = {k:v.tolist() for k, v in data.items()}\n",
    "d_list = []\n",
    "for k, v in d.items():\n",
    "    for i in v:\n",
    "        d_list.append([i[0], i[1], k])\n",
    "dframe = pd.DataFrame(d_list, columns = [\"X\", \"Y\", \"label\"])"
   ]
  },
  {
   "cell_type": "code",
   "execution_count": 32,
   "id": "40344ee3",
   "metadata": {},
   "outputs": [],
   "source": [
    "color = ['blue', 'green', 'cyan']"
   ]
  },
  {
   "cell_type": "code",
   "execution_count": 33,
   "id": "51329d31",
   "metadata": {},
   "outputs": [
    {
     "data": {
      "image/png": "[encoded data removed]",
      "text/plain": [
       "<Figure size 1152x1152 with 1 Axes>"
      ]
     },
     "metadata": {
      "needs_background": "light"
     },
     "output_type": "display_data"
    }
   ],
   "source": [
    "for k in range(num_cluster):\n",
    "    ddata = dframe[dframe['label'] == k]\n",
    "    plt.scatter(ddata['X'], ddata['Y'], c=color[k])\n",
    "\n",
    "plt.show()"
   ]
  },
  {
   "cell_type": "markdown",
   "id": "869cbecb",
   "metadata": {},
   "source": [
    "### Generate random labels"
   ]
  },
  {
   "cell_type": "code",
   "execution_count": 35,
   "id": "ddb61527",
   "metadata": {},
   "outputs": [],
   "source": [
    "random_Z = [np.random.choice(num_cluster, 1, p=[1/num_cluster for i in range(num_cluster)])[0] for n_toss in range(total_toss)]"
   ]
  },
  {
   "cell_type": "code",
   "execution_count": 37,
   "id": "def59ce8",
   "metadata": {},
   "outputs": [],
   "source": [
    "data_list = []\n",
    "for key, value in data.items():\n",
    "    data_list.append(value.tolist())"
   ]
  },
  {
   "cell_type": "code",
   "execution_count": 40,
   "id": "946253a1",
   "metadata": {},
   "outputs": [],
   "source": [
    "data_list = list(itertools.chain(*data_list))"
   ]
  },
  {
   "cell_type": "code",
   "execution_count": 42,
   "id": "f1d55347",
   "metadata": {},
   "outputs": [],
   "source": [
    "c = list(zip(data_list, Z))"
   ]
  },
  {
   "cell_type": "code",
   "execution_count": 46,
   "id": "a632b1b5",
   "metadata": {},
   "outputs": [],
   "source": [
    "random.shuffle(c)\n",
    "data_list, Z = zip(*c)"
   ]
  },
  {
   "cell_type": "code",
   "execution_count": 48,
   "id": "c2af65f1",
   "metadata": {},
   "outputs": [],
   "source": [
    "def gaussian_pdf(x_vector, mu_vector, covariance):\n",
    "    # use case \n",
    "    # gaussian_pdf(np.array([3,2]), np.array([4,5]), np.array([[2,3], [3,2]]))\n",
    "    D = len(x_vector)\n",
    "    inv_covariance = np.linalg.inv(covariance)\n",
    "    exp_term = np.exp(-0.5*np.dot(np.dot(np.transpose(x_vector-mu_vector),inv_covariance),(x_vector-mu_vector)))\n",
    "    return (1/(2*np.pi)**D/2) * (1/np.abs(np.linalg.det(covariance))**0.5) * exp_term"
   ]
  },
  {
   "cell_type": "code",
   "execution_count": 76,
   "id": "5307dbf3",
   "metadata": {},
   "outputs": [],
   "source": [
    "# generate clusters by removing a data \n",
    "# gibbs sampling\n",
    "def generate_cluster(X, data_i, Z, num_cluster):\n",
    "    clusters = {}\n",
    "    cluster_x = {}\n",
    "    cluster_y = {}\n",
    "\n",
    "    for k in range(0, num_cluster):\n",
    "        clusters[k] = []\n",
    "        cluster_x[k] = []\n",
    "        cluster_y[k] = []\n",
    "    \n",
    "    for (x, z) in zip(X, Z):\n",
    "        if (x == data_i).any():\n",
    "            continue\n",
    "        cluster_x[z].append(x[0])\n",
    "        cluster_y[z].append(x[1])\n",
    "    \n",
    "    for k in range(len(cluster_x)):\n",
    "        clusters[k] = np.vstack([cluster_x[k], cluster_y[k]]).T\n",
    "        \n",
    "    return clusters"
   ]
  },
  {
   "cell_type": "code",
   "execution_count": 77,
   "id": "dc843f76",
   "metadata": {},
   "outputs": [],
   "source": [
    "# use inverse wishart distribution to estimate mean and covariance\n",
    "def sample_mu_covariance(data, n_0=1, m=2, mu_0=np.array([0,0]), phi=np.array([[1,0],[0,1]])):\n",
    "    # n : degree of freedom \n",
    "    # To compute covariance \n",
    "    n = len(data[:,0]) # num of data point\n",
    "    print(n)\n",
    "    n = n + n_0 \n",
    "    \n",
    "    x_bar = np.array([np.mean(data[:, 0]), np.mean(data[:,1])])\n",
    "    S = np.sum(np.dot((data-x_bar), np.transpose(data-x_bar)))\n",
    "    third_term = ((n*m)/ (n+m)) * np.dot((x_bar-mu_0), np.transpose(x_bar-mu_0))\n",
    "    phi = phi + S + third_term\n",
    "    covariance = invwishart.rvs(n, phi, size=1)\n",
    "    \n",
    "    # To compute mean\n",
    "    A = (n * np.array([np.mean(data[:, 0]), np.mean(data[:, 1])]) + m * mu_0) / (n + m)\n",
    "    B = (1 / (n + m)) * covariance\n",
    "    \n",
    "    mean = np.random.multivariate_normal(A, B, size=1)[0]\n",
    "    \n",
    "    return mean, covariance"
   ]
  },
  {
   "cell_type": "code",
   "execution_count": 78,
   "id": "5c8d1139",
   "metadata": {},
   "outputs": [],
   "source": [
    "def calculate_prob(X, x, Z, count, A, N):\n",
    "    clusters = generate_cluster(X, x, Z, num_cluster)\n",
    "    covariance = {}\n",
    "    mean = {}\n",
    "    import pdb; pdb.set_trace() \n",
    "    # calculate mean and variance as the parameters are assumed to be unknown\n",
    "    for k in clusters:\n",
    "        mean[k], covariance[k] = sample_mu_covariance(np.array(clusters[k]))\n",
    "        \n",
    "    mu = []\n",
    "    for k, v in mean.items():\n",
    "        mu.append(v)\n",
    "    \n",
    "    final_prob = []\n",
    "    norm_final_prob = []\n",
    "\n",
    "    for k in range(num_cluster):\n",
    "        k_prob = gaussian_pdf(x, mu[k], covariance[k])\n",
    "        pr = ((count[k] + A/num_cluster)/(N + A - 1)) * k_prob\n",
    "\n",
    "        final_prob.append(pr)\n",
    "            \n",
    "    if np.isnan(final_prob).any():\n",
    "        final_prob = [1/num_cluster for i in range(num_cluster)]\n",
    "        \n",
    "    sum_prob = sum(final_prob)\n",
    "    for i in range(0, num_cluster):\n",
    "        norm_final_prob.append(final_prob[i]/sum_prob)\n",
    "\n",
    "    if np.isnan(norm_final_prob).any():\n",
    "        norm_final_prob = [1/num_cluster for i in range(num_cluster)]\n",
    "        \n",
    "    return norm_final_prob, final_prob"
   ]
  },
  {
   "cell_type": "code",
   "execution_count": 79,
   "id": "94ffebb0",
   "metadata": {},
   "outputs": [],
   "source": [
    "data_numpy = [np.array(d) for d in data_list]\n",
    "\n",
    "count = Counter(random_Z)\n",
    "A = 0.1\n",
    "N = len(data_numpy)"
   ]
  },
  {
   "cell_type": "code",
   "execution_count": 80,
   "id": "23fc6b56",
   "metadata": {},
   "outputs": [
    {
     "name": "stderr",
     "output_type": "stream",
     "text": [
      "\r",
      "0it [00:00, ?it/s]"
     ]
    },
    {
     "name": "stdout",
     "output_type": "stream",
     "text": [
      "> \u001b[0;32m/tmp/ipykernel_25709/15159633.py\u001b[0m(7)\u001b[0;36mcalculate_prob\u001b[0;34m()\u001b[0m\n",
      "\u001b[0;32m      5 \u001b[0;31m    \u001b[0;32mimport\u001b[0m \u001b[0mpdb\u001b[0m\u001b[0;34m;\u001b[0m \u001b[0mpdb\u001b[0m\u001b[0;34m.\u001b[0m\u001b[0mset_trace\u001b[0m\u001b[0;34m(\u001b[0m\u001b[0;34m)\u001b[0m\u001b[0;34m\u001b[0m\u001b[0;34m\u001b[0m\u001b[0m\n",
      "\u001b[0m\u001b[0;32m      6 \u001b[0;31m    \u001b[0;31m# calculate mean and variance as the parameters are assumed to be unknown\u001b[0m\u001b[0;34m\u001b[0m\u001b[0;34m\u001b[0m\u001b[0;34m\u001b[0m\u001b[0m\n",
      "\u001b[0m\u001b[0;32m----> 7 \u001b[0;31m    \u001b[0;32mfor\u001b[0m \u001b[0mk\u001b[0m \u001b[0;32min\u001b[0m \u001b[0mclusters\u001b[0m\u001b[0;34m:\u001b[0m\u001b[0;34m\u001b[0m\u001b[0;34m\u001b[0m\u001b[0m\n",
      "\u001b[0m\u001b[0;32m      8 \u001b[0;31m        \u001b[0mmean\u001b[0m\u001b[0;34m[\u001b[0m\u001b[0mk\u001b[0m\u001b[0;34m]\u001b[0m\u001b[0;34m,\u001b[0m \u001b[0mcovariance\u001b[0m\u001b[0;34m[\u001b[0m\u001b[0mk\u001b[0m\u001b[0;34m]\u001b[0m \u001b[0;34m=\u001b[0m \u001b[0msample_mu_covariance\u001b[0m\u001b[0;34m(\u001b[0m\u001b[0mnp\u001b[0m\u001b[0;34m.\u001b[0m\u001b[0marray\u001b[0m\u001b[0;34m(\u001b[0m\u001b[0mclusters\u001b[0m\u001b[0;34m[\u001b[0m\u001b[0mk\u001b[0m\u001b[0;34m]\u001b[0m\u001b[0;34m)\u001b[0m\u001b[0;34m)\u001b[0m\u001b[0;34m\u001b[0m\u001b[0;34m\u001b[0m\u001b[0m\n",
      "\u001b[0m\u001b[0;32m      9 \u001b[0;31m\u001b[0;34m\u001b[0m\u001b[0m\n",
      "\u001b[0m\n",
      "ipdb> clusters\n",
      "{0: array([], shape=(0, 2), dtype=float64), 1: array([], shape=(0, 2), dtype=float64), 2: array([], shape=(0, 2), dtype=float64)}\n",
      "ipdb> exit\n"
     ]
    },
    {
     "name": "stderr",
     "output_type": "stream",
     "text": [
      "0it [00:04, ?it/s]\n"
     ]
    },
    {
     "ename": "BdbQuit",
     "evalue": "",
     "output_type": "error",
     "traceback": [
      "\u001b[0;31m---------------------------------------------------------------------------\u001b[0m",
      "\u001b[0;31mBdbQuit\u001b[0m                                   Traceback (most recent call last)",
      "\u001b[0;32m/tmp/ipykernel_25709/2151260659.py\u001b[0m in \u001b[0;36m<module>\u001b[0;34m\u001b[0m\n\u001b[1;32m      5\u001b[0m \u001b[0;34m\u001b[0m\u001b[0m\n\u001b[1;32m      6\u001b[0m     \u001b[0;32mfor\u001b[0m \u001b[0mi\u001b[0m\u001b[0;34m,\u001b[0m \u001b[0;34m(\u001b[0m\u001b[0mx\u001b[0m\u001b[0;34m,\u001b[0m \u001b[0mz\u001b[0m\u001b[0;34m)\u001b[0m \u001b[0;32min\u001b[0m \u001b[0mtqdm\u001b[0m\u001b[0;34m(\u001b[0m\u001b[0menumerate\u001b[0m\u001b[0;34m(\u001b[0m\u001b[0mzip\u001b[0m\u001b[0;34m(\u001b[0m\u001b[0mdata_numpy\u001b[0m\u001b[0;34m,\u001b[0m \u001b[0mrandom_Z\u001b[0m\u001b[0;34m)\u001b[0m\u001b[0;34m)\u001b[0m\u001b[0;34m)\u001b[0m\u001b[0;34m:\u001b[0m\u001b[0;34m\u001b[0m\u001b[0;34m\u001b[0m\u001b[0m\n\u001b[0;32m----> 7\u001b[0;31m         \u001b[0mnorm_final_prob\u001b[0m\u001b[0;34m,\u001b[0m \u001b[0mfinal_prob\u001b[0m \u001b[0;34m=\u001b[0m \u001b[0mcalculate_prob\u001b[0m\u001b[0;34m(\u001b[0m\u001b[0mdata_numpy\u001b[0m\u001b[0;34m,\u001b[0m \u001b[0mx\u001b[0m\u001b[0;34m,\u001b[0m \u001b[0mnew_Z\u001b[0m\u001b[0;34m,\u001b[0m \u001b[0mcount\u001b[0m\u001b[0;34m,\u001b[0m \u001b[0mA\u001b[0m\u001b[0;34m,\u001b[0m \u001b[0mN\u001b[0m\u001b[0;34m)\u001b[0m\u001b[0;34m\u001b[0m\u001b[0;34m\u001b[0m\u001b[0m\n\u001b[0m\u001b[1;32m      8\u001b[0m         \u001b[0mnew_Z\u001b[0m\u001b[0;34m[\u001b[0m\u001b[0mi\u001b[0m\u001b[0;34m]\u001b[0m \u001b[0;34m=\u001b[0m \u001b[0;34m(\u001b[0m\u001b[0mnp\u001b[0m\u001b[0;34m.\u001b[0m\u001b[0mrandom\u001b[0m\u001b[0;34m.\u001b[0m\u001b[0mchoice\u001b[0m\u001b[0;34m(\u001b[0m\u001b[0mnum_cluster\u001b[0m\u001b[0;34m,\u001b[0m \u001b[0;36m1\u001b[0m\u001b[0;34m,\u001b[0m \u001b[0mp\u001b[0m\u001b[0;34m=\u001b[0m\u001b[0mnorm_final_prob\u001b[0m\u001b[0;34m)\u001b[0m\u001b[0;34m[\u001b[0m\u001b[0;36m0\u001b[0m\u001b[0;34m]\u001b[0m\u001b[0;34m)\u001b[0m\u001b[0;34m\u001b[0m\u001b[0;34m\u001b[0m\u001b[0m\n\u001b[1;32m      9\u001b[0m \u001b[0;34m\u001b[0m\u001b[0m\n",
      "\u001b[0;32m/tmp/ipykernel_25709/15159633.py\u001b[0m in \u001b[0;36mcalculate_prob\u001b[0;34m(X, x, Z, count, A, N)\u001b[0m\n\u001b[1;32m      5\u001b[0m     \u001b[0;32mimport\u001b[0m \u001b[0mpdb\u001b[0m\u001b[0;34m;\u001b[0m \u001b[0mpdb\u001b[0m\u001b[0;34m.\u001b[0m\u001b[0mset_trace\u001b[0m\u001b[0;34m(\u001b[0m\u001b[0;34m)\u001b[0m\u001b[0;34m\u001b[0m\u001b[0;34m\u001b[0m\u001b[0m\n\u001b[1;32m      6\u001b[0m     \u001b[0;31m# calculate mean and variance as the parameters are assumed to be unknown\u001b[0m\u001b[0;34m\u001b[0m\u001b[0;34m\u001b[0m\u001b[0;34m\u001b[0m\u001b[0m\n\u001b[0;32m----> 7\u001b[0;31m     \u001b[0;32mfor\u001b[0m \u001b[0mk\u001b[0m \u001b[0;32min\u001b[0m \u001b[0mclusters\u001b[0m\u001b[0;34m:\u001b[0m\u001b[0;34m\u001b[0m\u001b[0;34m\u001b[0m\u001b[0m\n\u001b[0m\u001b[1;32m      8\u001b[0m         \u001b[0mmean\u001b[0m\u001b[0;34m[\u001b[0m\u001b[0mk\u001b[0m\u001b[0;34m]\u001b[0m\u001b[0;34m,\u001b[0m \u001b[0mcovariance\u001b[0m\u001b[0;34m[\u001b[0m\u001b[0mk\u001b[0m\u001b[0;34m]\u001b[0m \u001b[0;34m=\u001b[0m \u001b[0msample_mu_covariance\u001b[0m\u001b[0;34m(\u001b[0m\u001b[0mnp\u001b[0m\u001b[0;34m.\u001b[0m\u001b[0marray\u001b[0m\u001b[0;34m(\u001b[0m\u001b[0mclusters\u001b[0m\u001b[0;34m[\u001b[0m\u001b[0mk\u001b[0m\u001b[0;34m]\u001b[0m\u001b[0;34m)\u001b[0m\u001b[0;34m)\u001b[0m\u001b[0;34m\u001b[0m\u001b[0;34m\u001b[0m\u001b[0m\n\u001b[1;32m      9\u001b[0m \u001b[0;34m\u001b[0m\u001b[0m\n",
      "\u001b[0;32m/tmp/ipykernel_25709/15159633.py\u001b[0m in \u001b[0;36mcalculate_prob\u001b[0;34m(X, x, Z, count, A, N)\u001b[0m\n\u001b[1;32m      5\u001b[0m     \u001b[0;32mimport\u001b[0m \u001b[0mpdb\u001b[0m\u001b[0;34m;\u001b[0m \u001b[0mpdb\u001b[0m\u001b[0;34m.\u001b[0m\u001b[0mset_trace\u001b[0m\u001b[0;34m(\u001b[0m\u001b[0;34m)\u001b[0m\u001b[0;34m\u001b[0m\u001b[0;34m\u001b[0m\u001b[0m\n\u001b[1;32m      6\u001b[0m     \u001b[0;31m# calculate mean and variance as the parameters are assumed to be unknown\u001b[0m\u001b[0;34m\u001b[0m\u001b[0;34m\u001b[0m\u001b[0;34m\u001b[0m\u001b[0m\n\u001b[0;32m----> 7\u001b[0;31m     \u001b[0;32mfor\u001b[0m \u001b[0mk\u001b[0m \u001b[0;32min\u001b[0m \u001b[0mclusters\u001b[0m\u001b[0;34m:\u001b[0m\u001b[0;34m\u001b[0m\u001b[0;34m\u001b[0m\u001b[0m\n\u001b[0m\u001b[1;32m      8\u001b[0m         \u001b[0mmean\u001b[0m\u001b[0;34m[\u001b[0m\u001b[0mk\u001b[0m\u001b[0;34m]\u001b[0m\u001b[0;34m,\u001b[0m \u001b[0mcovariance\u001b[0m\u001b[0;34m[\u001b[0m\u001b[0mk\u001b[0m\u001b[0;34m]\u001b[0m \u001b[0;34m=\u001b[0m \u001b[0msample_mu_covariance\u001b[0m\u001b[0;34m(\u001b[0m\u001b[0mnp\u001b[0m\u001b[0;34m.\u001b[0m\u001b[0marray\u001b[0m\u001b[0;34m(\u001b[0m\u001b[0mclusters\u001b[0m\u001b[0;34m[\u001b[0m\u001b[0mk\u001b[0m\u001b[0;34m]\u001b[0m\u001b[0;34m)\u001b[0m\u001b[0;34m)\u001b[0m\u001b[0;34m\u001b[0m\u001b[0;34m\u001b[0m\u001b[0m\n\u001b[1;32m      9\u001b[0m \u001b[0;34m\u001b[0m\u001b[0m\n",
      "\u001b[0;32m/usr/lib/python3.8/bdb.py\u001b[0m in \u001b[0;36mtrace_dispatch\u001b[0;34m(self, frame, event, arg)\u001b[0m\n\u001b[1;32m     86\u001b[0m             \u001b[0;32mreturn\u001b[0m \u001b[0;31m# None\u001b[0m\u001b[0;34m\u001b[0m\u001b[0;34m\u001b[0m\u001b[0m\n\u001b[1;32m     87\u001b[0m         \u001b[0;32mif\u001b[0m \u001b[0mevent\u001b[0m \u001b[0;34m==\u001b[0m \u001b[0;34m'line'\u001b[0m\u001b[0;34m:\u001b[0m\u001b[0;34m\u001b[0m\u001b[0;34m\u001b[0m\u001b[0m\n\u001b[0;32m---> 88\u001b[0;31m             \u001b[0;32mreturn\u001b[0m \u001b[0mself\u001b[0m\u001b[0;34m.\u001b[0m\u001b[0mdispatch_line\u001b[0m\u001b[0;34m(\u001b[0m\u001b[0mframe\u001b[0m\u001b[0;34m)\u001b[0m\u001b[0;34m\u001b[0m\u001b[0;34m\u001b[0m\u001b[0m\n\u001b[0m\u001b[1;32m     89\u001b[0m         \u001b[0;32mif\u001b[0m \u001b[0mevent\u001b[0m \u001b[0;34m==\u001b[0m \u001b[0;34m'call'\u001b[0m\u001b[0;34m:\u001b[0m\u001b[0;34m\u001b[0m\u001b[0;34m\u001b[0m\u001b[0m\n\u001b[1;32m     90\u001b[0m             \u001b[0;32mreturn\u001b[0m \u001b[0mself\u001b[0m\u001b[0;34m.\u001b[0m\u001b[0mdispatch_call\u001b[0m\u001b[0;34m(\u001b[0m\u001b[0mframe\u001b[0m\u001b[0;34m,\u001b[0m \u001b[0marg\u001b[0m\u001b[0;34m)\u001b[0m\u001b[0;34m\u001b[0m\u001b[0;34m\u001b[0m\u001b[0m\n",
      "\u001b[0;32m/usr/lib/python3.8/bdb.py\u001b[0m in \u001b[0;36mdispatch_line\u001b[0;34m(self, frame)\u001b[0m\n\u001b[1;32m    111\u001b[0m         \u001b[0;32mif\u001b[0m \u001b[0mself\u001b[0m\u001b[0;34m.\u001b[0m\u001b[0mstop_here\u001b[0m\u001b[0;34m(\u001b[0m\u001b[0mframe\u001b[0m\u001b[0;34m)\u001b[0m \u001b[0;32mor\u001b[0m \u001b[0mself\u001b[0m\u001b[0;34m.\u001b[0m\u001b[0mbreak_here\u001b[0m\u001b[0;34m(\u001b[0m\u001b[0mframe\u001b[0m\u001b[0;34m)\u001b[0m\u001b[0;34m:\u001b[0m\u001b[0;34m\u001b[0m\u001b[0;34m\u001b[0m\u001b[0m\n\u001b[1;32m    112\u001b[0m             \u001b[0mself\u001b[0m\u001b[0;34m.\u001b[0m\u001b[0muser_line\u001b[0m\u001b[0;34m(\u001b[0m\u001b[0mframe\u001b[0m\u001b[0;34m)\u001b[0m\u001b[0;34m\u001b[0m\u001b[0;34m\u001b[0m\u001b[0m\n\u001b[0;32m--> 113\u001b[0;31m             \u001b[0;32mif\u001b[0m \u001b[0mself\u001b[0m\u001b[0;34m.\u001b[0m\u001b[0mquitting\u001b[0m\u001b[0;34m:\u001b[0m \u001b[0;32mraise\u001b[0m \u001b[0mBdbQuit\u001b[0m\u001b[0;34m\u001b[0m\u001b[0;34m\u001b[0m\u001b[0m\n\u001b[0m\u001b[1;32m    114\u001b[0m         \u001b[0;32mreturn\u001b[0m \u001b[0mself\u001b[0m\u001b[0;34m.\u001b[0m\u001b[0mtrace_dispatch\u001b[0m\u001b[0;34m\u001b[0m\u001b[0;34m\u001b[0m\u001b[0m\n\u001b[1;32m    115\u001b[0m \u001b[0;34m\u001b[0m\u001b[0m\n",
      "\u001b[0;31mBdbQuit\u001b[0m: "
     ]
    }
   ],
   "source": [
    "total_performance = []\n",
    "total_iter = 20\n",
    "for v in range(total_iter):\n",
    "    performance = [] \n",
    "\n",
    "    for i, (x, z) in tqdm(enumerate(zip(data_numpy, random_Z))):\n",
    "        norm_final_prob, final_prob = calculate_prob(data_numpy, x, new_Z, count, A, N)\n",
    "        new_Z[i] = (np.random.choice(num_cluster, 1, p=norm_final_prob)[0])\n",
    "    \n",
    "    \n",
    "        performance.append(np.log(np.sum(final_prob)))\n",
    "    total_performance.append(np.sum(performance))"
   ]
  },
  {
   "cell_type": "code",
   "execution_count": null,
   "id": "3b0704bb",
   "metadata": {},
   "outputs": [],
   "source": []
  }
 ],
 "metadata": {
  "kernelspec": {
   "display_name": "Python 3 (ipykernel)",
   "language": "python",
   "name": "python3"
  },
  "language_info": {
   "codemirror_mode": {
    "name": "ipython",
    "version": 3
   },
   "file_extension": ".py",
   "mimetype": "text/x-python",
   "name": "python",
   "nbconvert_exporter": "python",
   "pygments_lexer": "ipython3",
   "version": "3.8.10"
  }
 },
 "nbformat": 4,
 "nbformat_minor": 5
}
