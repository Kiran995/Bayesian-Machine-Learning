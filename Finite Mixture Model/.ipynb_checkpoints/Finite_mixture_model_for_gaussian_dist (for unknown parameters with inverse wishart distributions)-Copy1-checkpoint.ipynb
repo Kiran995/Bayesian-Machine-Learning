{
 "cells": [
  {
   "cell_type": "code",
   "execution_count": 1,
   "id": "59ebca7f",
   "metadata": {},
   "outputs": [],
   "source": [
    "import numpy as np\n",
    "import matplotlib.pyplot as plt\n",
    "from collections import Counter\n",
    "import itertools\n",
    "import random\n",
    "import pandas as pd\n",
    "import matplotlib \n",
    "\n",
    "from scipy.stats import invwishart\n",
    "\n",
    "\n",
    "matplotlib.rcParams['figure.figsize'] = (16, 16)"
   ]
  },
  {
   "cell_type": "markdown",
   "id": "61fe30ad",
   "metadata": {},
   "source": [
    "##### Generate data with normal distribution"
   ]
  },
  {
   "cell_type": "code",
   "execution_count": 2,
   "id": "f7c1dbeb",
   "metadata": {},
   "outputs": [],
   "source": [
    "total_toss = 900\n",
    "num_cluster = 3"
   ]
  },
  {
   "cell_type": "code",
   "execution_count": 3,
   "id": "2b761fef",
   "metadata": {},
   "outputs": [],
   "source": [
    "params = [\n",
    "            {\"pi\": 0.1, \"mu\": (3, 5), \"covariance\": [[0.8, 0.5], [0.5, 0.9]]},\n",
    "            {\"pi\": 0.6, \"mu\": (10, 20), \"covariance\": [[0.6, 0.2], [0.2, 0.5]]},\n",
    "            {\"pi\": 0.3, \"mu\": (30, 40), \"covariance\": [[1, 0], [0, 1]]}\n",
    "        ]"
   ]
  },
  {
   "cell_type": "code",
   "execution_count": 4,
   "id": "cbcce7a4",
   "metadata": {},
   "outputs": [],
   "source": [
    "def gen_data(num_cluster, total_toss):\n",
    "    Z = [np.random.choice(num_cluster, 1, p=[params[i]['pi'] for i in range(num_cluster)])[0] for n_toss in range(total_toss)]\n",
    "    data_dist = Counter(Z)\n",
    "    data = {}\n",
    "    for i in range(0, num_cluster):\n",
    "        if data_dist[i] != 0: \n",
    "            data[i] = np.squeeze(np.random.multivariate_normal(params[i][\"mu\"], params[i][\"covariance\"], (1, data_dist[i])))\n",
    "    return Z, data"
   ]
  },
  {
   "cell_type": "code",
   "execution_count": 5,
   "id": "094a29a9",
   "metadata": {},
   "outputs": [],
   "source": [
    "actual_Z, data = gen_data(num_cluster, total_toss)"
   ]
  },
  {
   "cell_type": "code",
   "execution_count": 6,
   "id": "3aa04077",
   "metadata": {},
   "outputs": [],
   "source": [
    "d = {k:v.tolist() for k, v in data.items()}\n",
    "d_list = []\n",
    "for k, v in d.items():\n",
    "    for i in v:\n",
    "        d_list.append([i[0], i[1], k])\n",
    "dframe = pd.DataFrame(d_list, columns = [\"X\", \"Y\", \"label\"])"
   ]
  },
  {
   "cell_type": "code",
   "execution_count": 7,
   "id": "aefc0b3a",
   "metadata": {},
   "outputs": [],
   "source": [
    "color = ['blue', 'green', 'cyan']"
   ]
  },
  {
   "cell_type": "code",
   "execution_count": 8,
   "id": "6e5a13c1",
   "metadata": {},
   "outputs": [
    {
     "data": {
      "image/png": "[encoded data removed]",
      "text/plain": [
       "<Figure size 1152x1152 with 1 Axes>"
      ]
     },
     "metadata": {
      "needs_background": "light"
     },
     "output_type": "display_data"
    }
   ],
   "source": [
    "for k in range(num_cluster):\n",
    "    ddata = dframe[dframe['label'] == k]\n",
    "    plt.scatter(ddata['X'], ddata['Y'], c=color[k])\n",
    "\n",
    "plt.show()"
   ]
  },
  {
   "cell_type": "markdown",
   "id": "cce3c1d0",
   "metadata": {},
   "source": [
    "##### Generate labels "
   ]
  },
  {
   "cell_type": "code",
   "execution_count": 9,
   "id": "9341d78d",
   "metadata": {},
   "outputs": [],
   "source": [
    "Z = [np.random.choice(num_cluster, 1, p=[1/num_cluster for i in range(num_cluster)])[0] for n_toss in range(total_toss)]"
   ]
  },
  {
   "cell_type": "code",
   "execution_count": 10,
   "id": "2fea4fb6",
   "metadata": {},
   "outputs": [],
   "source": [
    "data_list = []\n",
    "for key, value in data.items():\n",
    "    data_list.append(value.tolist())"
   ]
  },
  {
   "cell_type": "code",
   "execution_count": 11,
   "id": "1ca510cc",
   "metadata": {},
   "outputs": [],
   "source": [
    "data_list = list(itertools.chain(*data_list))"
   ]
  },
  {
   "cell_type": "code",
   "execution_count": 12,
   "id": "1c9fd938",
   "metadata": {},
   "outputs": [],
   "source": [
    "c = list(zip(data_list, Z))"
   ]
  },
  {
   "cell_type": "code",
   "execution_count": 13,
   "id": "ee80f17e",
   "metadata": {},
   "outputs": [],
   "source": [
    "random.shuffle(c)\n",
    "\n",
    "data_list, Z = zip(*c)"
   ]
  },
  {
   "cell_type": "markdown",
   "id": "598d1ab6",
   "metadata": {},
   "source": [
    "### Gaussian Prior"
   ]
  },
  {
   "cell_type": "code",
   "execution_count": 14,
   "id": "550b0a97",
   "metadata": {},
   "outputs": [],
   "source": [
    "def gaussian_pdf(x_vector, mu_vector, covariance):\n",
    "    # use case \n",
    "    # gaussian_pdf(np.array([3,2]), np.array([4,5]), np.array([[2,3], [3,2]]))\n",
    "    D = len(x_vector)\n",
    "    inv_covariance = np.linalg.inv(covariance)\n",
    "    exp_term = np.exp(-0.5*np.dot(np.dot(np.transpose(x_vector-mu_vector),inv_covariance),(x_vector-mu_vector)))\n",
    "    return (1/(2*np.pi)**D/2) * (1/np.abs(np.linalg.det(covariance))**0.5) * exp_term"
   ]
  },
  {
   "cell_type": "markdown",
   "id": "1c7d2a72",
   "metadata": {},
   "source": [
    "##### UNKnown parameters "
   ]
  },
  {
   "cell_type": "code",
   "execution_count": 15,
   "id": "175537e7",
   "metadata": {},
   "outputs": [],
   "source": [
    "# generate clusters by removing a data \n",
    "# gibbs sampling\n",
    "def generate_cluster(X, data_i, Z, n_z):\n",
    "    clusters = {}\n",
    "    cluster_x = {}\n",
    "    cluster_y = {}\n",
    "\n",
    "    for k in range(0, n_z):\n",
    "        clusters[k] = []\n",
    "        cluster_x[k] = []\n",
    "        cluster_y[k] = []\n",
    "    \n",
    "    for (x, z) in zip(X, Z):\n",
    "        if (x == data_i).any():\n",
    "            continue\n",
    "        cluster_x[z].append(x[0])\n",
    "        cluster_y[z].append(x[1])\n",
    "    \n",
    "    for k in range(len(cluster_x)):\n",
    "        clusters[k] = np.vstack([cluster_x[k], cluster_y[k]]).T\n",
    "        \n",
    "    return clusters"
   ]
  },
  {
   "cell_type": "code",
   "execution_count": 16,
   "id": "0d893ad9",
   "metadata": {},
   "outputs": [],
   "source": [
    "# use inverse wishart distribution to estimate mean and covariance\n",
    "def sample_mu_covariance(data, n_0=1, m=2, mu_0=np.array([0,0]), phi=np.array([[1,0],[0,1]])):\n",
    "    # n : degree of freedom \n",
    "    # To compute covariance \n",
    "    n = len(data[:,0]) # num of data point\n",
    "    n = n + n_0 \n",
    "    \n",
    "    x_bar = np.array([np.mean(data[:, 0]), np.mean(data[:,1])])\n",
    "    S = np.sum(np.dot((data-x_bar), np.transpose(data-x_bar)))\n",
    "    third_term = ((n*m)/ (n+m)) * np.dot((x_bar-mu_0), np.transpose(x_bar-mu_0))\n",
    "    phi = phi + S + third_term\n",
    "    covariance = invwishart.rvs(n, phi, size=1)\n",
    "    \n",
    "    # To compute mean\n",
    "    A = (n * np.array([np.mean(data[:, 0]), np.mean(data[:, 1])]) + m * mu_0) / (n + m)\n",
    "    B = (1 / (n + m)) * covariance\n",
    "    \n",
    "    mean = np.random.multivariate_normal(A, B, size=1)[0]\n",
    "    \n",
    "    return mean, covariance"
   ]
  },
  {
   "cell_type": "code",
   "execution_count": 17,
   "id": "72a77e9e",
   "metadata": {},
   "outputs": [],
   "source": [
    "def calculate_prob(X, x, Z, count, A, N):\n",
    "    clusters = generate_cluster(X, x, Z, num_cluster)\n",
    "    covariance = {}\n",
    "    mean = {}\n",
    "    # calculate mean and variance as the parameters are assumed to be unknown\n",
    "    for k in clusters:\n",
    "        mean[k], covariance[k] = sample_mu_covariance(np.array(clusters[k]))\n",
    "        \n",
    "    mu = []\n",
    "    for k, v in mean.items():\n",
    "        mu.append(v)\n",
    "    \n",
    "    final_prob = []\n",
    "    norm_final_prob = []\n",
    "\n",
    "    for k in range(num_cluster):\n",
    "        k_prob = gaussian_pdf(x, mu[k], covariance[k])\n",
    "        pr = ((count[k] + A/num_cluster)/(N + A - 1)) * k_prob\n",
    "\n",
    "        final_prob.append(pr)\n",
    "            \n",
    "    if np.isnan(final_prob).any():\n",
    "        final_prob = [1/num_cluster for i in range(num_cluster)]\n",
    "        \n",
    "    sum_prob = sum(final_prob)\n",
    "    for i in range(0, num_cluster):\n",
    "        norm_final_prob.append(final_prob[i]/sum_prob)\n",
    "\n",
    "    if np.isnan(norm_final_prob).any():\n",
    "        norm_final_prob = [1/num_cluster for i in range(num_cluster)]\n",
    "        \n",
    "    return norm_final_prob, final_prob"
   ]
  },
  {
   "cell_type": "code",
   "execution_count": 18,
   "id": "939ee9c8",
   "metadata": {},
   "outputs": [],
   "source": [
    "new_Z = [np.random.choice(num_cluster, 1, p=[1/num_cluster for i in range(num_cluster)])[0] for n_toss in range(3*total_toss)] \n",
    "\n",
    "data_numpy = [np.array(d) for d in data_list]\n",
    "\n",
    "count = Counter(new_Z)\n",
    "A = 0.1\n",
    "N = len(data_numpy)"
   ]
  },
  {
   "cell_type": "code",
   "execution_count": null,
   "id": "26d8b8ea",
   "metadata": {},
   "outputs": [
    {
     "name": "stderr",
     "output_type": "stream",
     "text": [
      "/tmp/ipykernel_25920/2629958646.py:24: RuntimeWarning: invalid value encountered in double_scalars\n",
      "  norm_final_prob.append(final_prob[i]/sum_prob)\n",
      "/tmp/ipykernel_25920/1360978732.py:11: RuntimeWarning: divide by zero encountered in log\n",
      "  performance.append(np.log(np.sum(final_prob)))\n"
     ]
    }
   ],
   "source": [
    "total_performance = []\n",
    "total_iter = 100\n",
    "for v in range(total_iter):\n",
    "    performance = [] \n",
    "\n",
    "    for i, (x, z) in enumerate(zip(data_numpy, new_Z)):\n",
    "        norm_final_prob, final_prob = calculate_prob(data_numpy, x, new_Z, count, A, N)\n",
    "        new_Z[i] = (np.random.choice(num_cluster, 1, p=norm_final_prob)[0])\n",
    "    \n",
    "    \n",
    "        performance.append(np.log(np.sum(final_prob)))\n",
    "    total_performance.append(np.sum(performance))"
   ]
  },
  {
   "cell_type": "markdown",
   "id": "ac455ab2",
   "metadata": {},
   "source": [
    "##### Create DataFrame"
   ]
  },
  {
   "cell_type": "code",
   "execution_count": null,
   "id": "e9a2c0ac",
   "metadata": {},
   "outputs": [],
   "source": [
    "df_list = []\n",
    "for d, z, new_z, a_z in zip(data_list, Z, new_Z, actual_Z):\n",
    "    df_list.append([d[0], d[1], z, new_z, a_z])"
   ]
  },
  {
   "cell_type": "code",
   "execution_count": null,
   "id": "2ffa9243",
   "metadata": {},
   "outputs": [],
   "source": [
    "frame = pd.DataFrame(df_list, columns = [\"X\", \"Y\", \"random_label\", \"model_label\", \"actual_label\"])"
   ]
  },
  {
   "cell_type": "markdown",
   "id": "eb555354",
   "metadata": {},
   "source": [
    "##### Visualisation with random labels"
   ]
  },
  {
   "cell_type": "code",
   "execution_count": null,
   "id": "40f605f6",
   "metadata": {},
   "outputs": [],
   "source": [
    "for k in range(num_cluster):\n",
    "    ddata = frame[frame['random_label'] == k]\n",
    "    plt.scatter(ddata['X'], ddata['Y'], c=color[k])\n",
    "\n",
    "plt.show()"
   ]
  },
  {
   "cell_type": "markdown",
   "id": "6c1506ca",
   "metadata": {},
   "source": [
    "##### Visualisation after running gaussian mixture model "
   ]
  },
  {
   "cell_type": "code",
   "execution_count": null,
   "id": "bd3eeab5",
   "metadata": {},
   "outputs": [],
   "source": [
    "for k in range(num_cluster):\n",
    "    ddata = frame[frame['model_label'] == k]\n",
    "    plt.scatter(ddata['X'], ddata['Y'], c=color[k])\n",
    "\n",
    "plt.show()"
   ]
  },
  {
   "cell_type": "markdown",
   "id": "d94b972d",
   "metadata": {},
   "source": [
    "### Calculate mixture proportions "
   ]
  },
  {
   "cell_type": "code",
   "execution_count": null,
   "id": "f3434a6c",
   "metadata": {},
   "outputs": [],
   "source": [
    "model_params = []\n",
    "for i, df in frame.groupby('model_label'):\n",
    "    d = {}\n",
    "    d['pi'] = len(df)/total_toss\n",
    "    d['mu'] = (np.round(np.mean(df[[\"X\"]].to_numpy().T),2), np.round(np.mean(frame[[\"Y\"]].to_numpy().T),2))\n",
    "    d['covariance'] = np.round(np.cov(df[[\"X\", \"Y\"]].to_numpy().T), 2).tolist()\n",
    "    model_params.append(d)"
   ]
  },
  {
   "cell_type": "code",
   "execution_count": null,
   "id": "845d603d",
   "metadata": {},
   "outputs": [],
   "source": [
    "model_params"
   ]
  },
  {
   "cell_type": "code",
   "execution_count": null,
   "id": "3c681fb4",
   "metadata": {},
   "outputs": [],
   "source": [
    "params"
   ]
  },
  {
   "cell_type": "markdown",
   "id": "46d3f3ba",
   "metadata": {},
   "source": [
    "### Compute maximum likelihood estimate "
   ]
  },
  {
   "cell_type": "code",
   "execution_count": null,
   "id": "27eac73e",
   "metadata": {},
   "outputs": [],
   "source": [
    "plt.figure(figsize=(20, 5))\n",
    "plt.plot(total_performance)\n",
    "plt.xlabel(\"Number of Iteration\")\n",
    "plt.ylabel(\"log p(x_i,z_i|X_-i, Z_-i, theta, alpha)\")\n",
    "plt.xticks([i for i in range(total_iter)])\n",
    "\n",
    "plt.show()"
   ]
  },
  {
   "cell_type": "code",
   "execution_count": null,
   "id": "a7b83235",
   "metadata": {},
   "outputs": [],
   "source": []
  }
 ],
 "metadata": {
  "kernelspec": {
   "display_name": "Python 3 (ipykernel)",
   "language": "python",
   "name": "python3"
  },
  "language_info": {
   "codemirror_mode": {
    "name": "ipython",
    "version": 3
   },
   "file_extension": ".py",
   "mimetype": "text/x-python",
   "name": "python",
   "nbconvert_exporter": "python",
   "pygments_lexer": "ipython3",
   "version": "3.8.10"
  }
 },
 "nbformat": 4,
 "nbformat_minor": 5
}
