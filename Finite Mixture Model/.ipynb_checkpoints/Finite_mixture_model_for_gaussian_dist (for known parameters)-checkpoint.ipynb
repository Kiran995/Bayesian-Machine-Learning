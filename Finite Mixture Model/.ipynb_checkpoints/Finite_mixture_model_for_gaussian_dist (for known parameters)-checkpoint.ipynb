{
 "cells": [
  {
   "cell_type": "code",
   "execution_count": 1,
   "id": "59ebca7f",
   "metadata": {},
   "outputs": [],
   "source": [
    "import numpy as np\n",
    "import matplotlib.pyplot as plt\n",
    "from collections import Counter\n",
    "import itertools\n",
    "import random\n",
    "import pandas as pd\n",
    "import matplotlib \n",
    "\n",
    "matplotlib.rcParams['figure.figsize'] = (16, 16)"
   ]
  },
  {
   "cell_type": "markdown",
   "id": "61fe30ad",
   "metadata": {},
   "source": [
    "##### Generate data with normal distribution"
   ]
  },
  {
   "cell_type": "code",
   "execution_count": 2,
   "id": "f7c1dbeb",
   "metadata": {},
   "outputs": [],
   "source": [
    "total_toss = 900\n",
    "num_cluster = 3"
   ]
  },
  {
   "cell_type": "code",
   "execution_count": 3,
   "id": "2b761fef",
   "metadata": {},
   "outputs": [],
   "source": [
    "params = [\n",
    "            {\"pi\": 0.1, \"mu\": (10, 30), \"covariance\": [[0.88, 0.5], [0.5, 0.99]]},\n",
    "            {\"pi\": 0.6, \"mu\": (30, 8), \"covariance\": [[0.6, 0.2], [0.2, 0.5]]},\n",
    "            {\"pi\": 0.3, \"mu\": (12, 15), \"covariance\": [[1, 0], [0, 1]]}\n",
    "        ]"
   ]
  },
  {
   "cell_type": "code",
   "execution_count": 4,
   "id": "cbcce7a4",
   "metadata": {},
   "outputs": [],
   "source": [
    "def gen_data(num_cluster, total_toss):\n",
    "    Z = [np.random.choice(num_cluster, 1, p=[params[i]['pi'] for i in range(num_cluster)])[0] for n_toss in range(total_toss)]\n",
    "    data_dist = Counter(Z)\n",
    "    data = {}\n",
    "    for i in range(0, num_cluster):\n",
    "        if data_dist[i] != 0: \n",
    "            data[i] = np.squeeze(np.random.multivariate_normal(params[i][\"mu\"], params[i][\"covariance\"], (1, data_dist[i])))\n",
    "    return Z, data"
   ]
  },
  {
   "cell_type": "code",
   "execution_count": 5,
   "id": "094a29a9",
   "metadata": {},
   "outputs": [],
   "source": [
    "actual_Z, data = gen_data(num_cluster, total_toss)"
   ]
  },
  {
   "cell_type": "code",
   "execution_count": 6,
   "id": "ba4c2311",
   "metadata": {},
   "outputs": [],
   "source": [
    "d = {k:v.tolist() for k, v in data.items()}"
   ]
  },
  {
   "cell_type": "code",
   "execution_count": 7,
   "id": "78d871ea",
   "metadata": {},
   "outputs": [],
   "source": [
    "d_list = []\n",
    "for k, v in d.items():\n",
    "    for i in v:\n",
    "        d_list.append([i[0], i[1], k])\n",
    "dframe = pd.DataFrame(d_list, columns = [\"X\", \"Y\", \"label\"])"
   ]
  },
  {
   "cell_type": "markdown",
   "id": "48c2e6b0",
   "metadata": {},
   "source": [
    "### Visualisation of actual labels "
   ]
  },
  {
   "cell_type": "code",
   "execution_count": 8,
   "id": "edf538ae",
   "metadata": {},
   "outputs": [],
   "source": [
    "color = ['blue', 'green', 'cyan']"
   ]
  },
  {
   "cell_type": "code",
   "execution_count": 9,
   "id": "46b6cac8",
   "metadata": {},
   "outputs": [
    {
     "data": {
      "image/png": "[encoded data removed]",
      "text/plain": [
       "<Figure size 1152x1152 with 1 Axes>"
      ]
     },
     "metadata": {
      "needs_background": "light"
     },
     "output_type": "display_data"
    }
   ],
   "source": [
    "for k in range(num_cluster):\n",
    "    ddata = dframe[dframe['label'] == k]\n",
    "    plt.scatter(ddata['X'], ddata['Y'], c=color[k])\n",
    "\n",
    "plt.show()"
   ]
  },
  {
   "cell_type": "markdown",
   "id": "3e3ad3ea",
   "metadata": {},
   "source": [
    "##### Generate covariance matrix "
   ]
  },
  {
   "cell_type": "code",
   "execution_count": 10,
   "id": "9fa89d7a",
   "metadata": {},
   "outputs": [],
   "source": [
    "def gen_cov_matrix(data):\n",
    "    cov_matrix = {}\n",
    "    # Covariance\n",
    "    def cov(x, y):\n",
    "        xbar, ybar = x.mean(), y.mean()\n",
    "        return np.sum((x - xbar)*(y - ybar))/(len(x) - 1)\n",
    "\n",
    "    # Covariance matrix\n",
    "    def cov_mat(X):\n",
    "        return np.array([[cov(X[0], X[0]), cov(X[0], X[1])], \\\n",
    "                         [cov(X[1], X[0]), cov(X[1], X[1])]])\n",
    "\n",
    "    \n",
    "    for i in range(len(data)):\n",
    "        # Calculate covariance matrix \n",
    "        cov_matrix[i] = cov_mat(data[i].T) # (or with np.cov(X.T))\n",
    "        \n",
    "    return cov_matrix"
   ]
  },
  {
   "cell_type": "markdown",
   "id": "cce3c1d0",
   "metadata": {},
   "source": [
    "##### Generate labels "
   ]
  },
  {
   "cell_type": "code",
   "execution_count": 11,
   "id": "9341d78d",
   "metadata": {},
   "outputs": [],
   "source": [
    "Z = [np.random.choice(num_cluster, 1, p=[1/num_cluster for i in range(num_cluster)])[0] for n_toss in range(total_toss)]"
   ]
  },
  {
   "cell_type": "code",
   "execution_count": 12,
   "id": "2fea4fb6",
   "metadata": {},
   "outputs": [],
   "source": [
    "data_list = []\n",
    "for key, value in data.items():\n",
    "    data_list.append(value.tolist())"
   ]
  },
  {
   "cell_type": "code",
   "execution_count": 13,
   "id": "1ca510cc",
   "metadata": {},
   "outputs": [],
   "source": [
    "data_list = list(itertools.chain(*data_list))"
   ]
  },
  {
   "cell_type": "code",
   "execution_count": 14,
   "id": "1c9fd938",
   "metadata": {},
   "outputs": [],
   "source": [
    "c = list(zip(data_list, Z))"
   ]
  },
  {
   "cell_type": "code",
   "execution_count": 15,
   "id": "ee80f17e",
   "metadata": {},
   "outputs": [],
   "source": [
    "random.shuffle(c)\n",
    "\n",
    "data_list, Z = zip(*c)"
   ]
  },
  {
   "cell_type": "markdown",
   "id": "598d1ab6",
   "metadata": {},
   "source": [
    "### Gaussian Prior"
   ]
  },
  {
   "cell_type": "code",
   "execution_count": 16,
   "id": "550b0a97",
   "metadata": {},
   "outputs": [],
   "source": [
    "def gaussian_pdf(x_vector, mu_vector, covariance):\n",
    "    # use case \n",
    "    # gaussian_pdf(np.array([3,2]), np.array([4,5]), np.array([[2,3], [3,2]]))\n",
    "    D = len(x_vector)\n",
    "    inv_covariance = np.linalg.inv(covariance)\n",
    "    exp_term = np.exp(-0.5*np.dot(np.dot(np.transpose(x_vector-mu_vector),inv_covariance),(x_vector-mu_vector)))\n",
    "    return (1/(2*np.pi)**D/2) * (1/np.abs(np.linalg.det(covariance))**0.5) * exp_term"
   ]
  },
  {
   "cell_type": "markdown",
   "id": "1c7d2a72",
   "metadata": {},
   "source": [
    "##### Known parameters "
   ]
  },
  {
   "cell_type": "code",
   "execution_count": 17,
   "id": "72a77e9e",
   "metadata": {},
   "outputs": [],
   "source": [
    "def calculate_prob(X, x, Z, count, A, N):\n",
    "    final_prob = []\n",
    "    norm_final_prob = []\n",
    "    \n",
    "    for k in range(num_cluster):\n",
    "        k_prob = gaussian_pdf(x, params[k]['mu'], params[k]['covariance'])\n",
    "        pr = ((count[k] + A/num_cluster)/(N + A - 1)) * k_prob\n",
    "\n",
    "        final_prob.append(pr)\n",
    "    \n",
    "    sum_prob = sum(final_prob)\n",
    "    for i in range(0, num_cluster):\n",
    "        norm_final_prob.append(final_prob[i]/sum_prob)\n",
    "    return norm_final_prob, final_prob"
   ]
  },
  {
   "cell_type": "code",
   "execution_count": 18,
   "id": "939ee9c8",
   "metadata": {},
   "outputs": [],
   "source": [
    "new_Z = [np.random.choice(num_cluster, 1, p=[1/num_cluster for i in range(num_cluster)])[0] for n_toss in range(3*total_toss)] \n",
    "\n",
    "data_numpy = [np.array(d) for d in data_list]\n",
    "\n",
    "count = Counter(new_Z)\n",
    "A = 0.1\n",
    "N = len(data_numpy)"
   ]
  },
  {
   "cell_type": "code",
   "execution_count": null,
   "id": "26d8b8ea",
   "metadata": {},
   "outputs": [],
   "source": [
    "total_performance = []\n",
    "total_iter = 100\n",
    "for v in range(total_iter):\n",
    "    new_Z = [] \n",
    "    performance = []\n",
    "    if v >= 1:\n",
    "        for i, (x, z) in enumerate(zip(data_numpy, prev_Z)):\n",
    "            norm_final_prob, final_prob = calculate_prob(data_numpy, x, prev_Z, count, A, N)\n",
    "            new_Z.append(np.random.choice(num_cluster, 1, p=norm_final_prob)[0])\n",
    "    else:\n",
    "        for i, (x, z) in enumerate(zip(data_numpy, Z)):\n",
    "            norm_final_prob, final_prob = calculate_prob(data_numpy, x, Z, count, A, N)\n",
    "            new_Z.append(np.random.choice(num_cluster, 1, p=norm_final_prob)[0])\n",
    "            \n",
    "    performance.append(np.log(np.sum(final_prob)))\n",
    "    total_performance.append(np.sum(performance))\n",
    "    \n",
    "    prev_Z = new_Z"
   ]
  },
  {
   "cell_type": "markdown",
   "id": "ac455ab2",
   "metadata": {},
   "source": [
    "##### Create DataFrame"
   ]
  },
  {
   "cell_type": "code",
   "execution_count": null,
   "id": "e9a2c0ac",
   "metadata": {},
   "outputs": [],
   "source": [
    "df_list = []\n",
    "for d, z, new_z, a_z in zip(data_list, Z, new_Z, actual_Z):\n",
    "    df_list.append([d[0], d[1], z, new_z, a_z])"
   ]
  },
  {
   "cell_type": "code",
   "execution_count": null,
   "id": "2ffa9243",
   "metadata": {},
   "outputs": [],
   "source": [
    "frame = pd.DataFrame(df_list, columns = [\"X\", \"Y\", \"random_label\", \"model_label\", \"actual_label\"])"
   ]
  },
  {
   "cell_type": "markdown",
   "id": "e699dc70",
   "metadata": {},
   "source": [
    "##### Visualisation"
   ]
  },
  {
   "cell_type": "markdown",
   "id": "eb555354",
   "metadata": {},
   "source": [
    "##### Visualisation with random labels"
   ]
  },
  {
   "cell_type": "code",
   "execution_count": null,
   "id": "40f605f6",
   "metadata": {},
   "outputs": [],
   "source": [
    "for k in range(num_cluster):\n",
    "    ddata = frame[frame['random_label'] == k]\n",
    "    plt.scatter(ddata['X'], ddata['Y'], c=color[k])\n",
    "\n",
    "plt.show()"
   ]
  },
  {
   "cell_type": "markdown",
   "id": "6c1506ca",
   "metadata": {},
   "source": [
    "##### Visualisation after running gaussian mixture model "
   ]
  },
  {
   "cell_type": "code",
   "execution_count": null,
   "id": "bd3eeab5",
   "metadata": {},
   "outputs": [],
   "source": [
    "for k in range(num_cluster):\n",
    "    ddata = frame[frame['model_label'] == k]\n",
    "    plt.scatter(ddata['X'], ddata['Y'], c=color[k])\n",
    "\n",
    "plt.show()"
   ]
  },
  {
   "cell_type": "markdown",
   "id": "d94b972d",
   "metadata": {},
   "source": [
    "### Calculate mixture proportions "
   ]
  },
  {
   "cell_type": "code",
   "execution_count": null,
   "id": "f3434a6c",
   "metadata": {},
   "outputs": [],
   "source": [
    "model_params = []\n",
    "for i, df in frame.groupby('model_label'):\n",
    "    d = {}\n",
    "    d['pi'] = len(df)/total_toss\n",
    "    d['mu'] = (np.round(np.mean(df[[\"X\"]].to_numpy().T),2), np.round(np.mean(frame[[\"Y\"]].to_numpy().T),2))\n",
    "    d['covariance'] = np.round(np.cov(df[[\"X\", \"Y\"]].to_numpy().T), 2).tolist()\n",
    "    model_params.append(d)"
   ]
  },
  {
   "cell_type": "code",
   "execution_count": null,
   "id": "845d603d",
   "metadata": {},
   "outputs": [],
   "source": [
    "model_params"
   ]
  },
  {
   "cell_type": "code",
   "execution_count": null,
   "id": "3c681fb4",
   "metadata": {},
   "outputs": [],
   "source": [
    "params"
   ]
  },
  {
   "cell_type": "markdown",
   "id": "57864ae5",
   "metadata": {},
   "source": [
    "### Compute maximum likelihood estimate "
   ]
  },
  {
   "cell_type": "code",
   "execution_count": null,
   "id": "2d039689",
   "metadata": {},
   "outputs": [],
   "source": [
    "plt.figure(figsize=(20, 5))\n",
    "plt.plot(total_performance)\n",
    "plt.xlabel(\"Number of Iteration\")\n",
    "plt.ylabel(\"log p(x_i,z_i|X_-i, Z_-i, theta, alpha)\")\n",
    "plt.xticks([i for i in range(total_iter)])\n",
    "\n",
    "plt.show()"
   ]
  }
 ],
 "metadata": {
  "kernelspec": {
   "display_name": "Python 3 (ipykernel)",
   "language": "python",
   "name": "python3"
  },
  "language_info": {
   "codemirror_mode": {
    "name": "ipython",
    "version": 3
   },
   "file_extension": ".py",
   "mimetype": "text/x-python",
   "name": "python",
   "nbconvert_exporter": "python",
   "pygments_lexer": "ipython3",
   "version": "3.8.10"
  }
 },
 "nbformat": 4,
 "nbformat_minor": 5
}
