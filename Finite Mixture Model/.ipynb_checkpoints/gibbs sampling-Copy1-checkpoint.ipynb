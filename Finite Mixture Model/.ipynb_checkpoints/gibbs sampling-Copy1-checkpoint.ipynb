{
 "cells": [
  {
   "cell_type": "code",
   "execution_count": 1,
   "id": "dcc55b2f",
   "metadata": {},
   "outputs": [],
   "source": [
    "import numpy as np"
   ]
  },
  {
   "cell_type": "code",
   "execution_count": 2,
   "id": "4be77bd1",
   "metadata": {},
   "outputs": [],
   "source": [
    "np.random.seed(42)"
   ]
  },
  {
   "cell_type": "code",
   "execution_count": 4,
   "id": "f907da11",
   "metadata": {},
   "outputs": [],
   "source": [
    "def X_given_Y(y):\n",
    "    prob = 0.4\n",
    "    if y == 0:\n",
    "        return np.random.choice(2, 1, p=[1-prob, prob], replace=False)[0]\n",
    "    else:\n",
    "        return np.random.choice(2, 1, p=[prob, 1-prob], replace=False)[0]"
   ]
  },
  {
   "cell_type": "code",
   "execution_count": 5,
   "id": "6b1864ae",
   "metadata": {},
   "outputs": [],
   "source": [
    "def Y_given_X(x):\n",
    "    prob = 0.3\n",
    "    if x == 0:\n",
    "        return np.random.choice(2, 1, p=[1-prob, prob], replace=False)[0]\n",
    "    else:\n",
    "        return np.random.choice(2, 1, p=[prob, 1-prob], replace=False)[0]"
   ]
  },
  {
   "cell_type": "code",
   "execution_count": 7,
   "id": "7e25c9c3",
   "metadata": {},
   "outputs": [],
   "source": [
    "X = [1]\n",
    "Y = [1]\n",
    "\n",
    "num = 100000\n",
    "\n",
    "for i in range(1, num):\n",
    "    X.append(X_given_Y(Y[-1]))\n",
    "    Y.append(Y_given_X(X[-1]))"
   ]
  },
  {
   "cell_type": "code",
   "execution_count": 9,
   "id": "02eb8d58",
   "metadata": {},
   "outputs": [],
   "source": [
    "count_0_0 = 0\n",
    "count_0_1 = 0\n",
    "count_1_0 = 0\n",
    "count_1_1 = 0\n",
    "\n",
    "for i in range(1, num):\n",
    "    if X[i] == 0 and Y[i] == 0:\n",
    "        count_0_0 += 1  \n",
    "        \n",
    "    if X[i] == 0 and Y[i] == 1:\n",
    "        count_0_1 += 1            \n",
    "        \n",
    "    if X[i] == 1 and Y[i] == 0:\n",
    "        count_1_0 += 1\n",
    "    \n",
    "    if X[i] == 1 and Y[i] == 1:\n",
    "        count_1_1 += 1"
   ]
  },
  {
   "cell_type": "code",
   "execution_count": 10,
   "id": "022bc0a4",
   "metadata": {},
   "outputs": [
    {
     "name": "stdout",
     "output_type": "stream",
     "text": [
      "P(X=0, Y=0) 0.34965\n",
      "P(X=0, Y=1) 0.14928\n",
      "P(X=1, Y=0) 0.15103\n",
      "P(X=1, Y=1) 0.35003\n"
     ]
    }
   ],
   "source": [
    "print(\"P(X=0, Y=0)\", count_0_0/num)\n",
    "print(\"P(X=0, Y=1)\", count_0_1/num)\n",
    "print(\"P(X=1, Y=0)\", count_1_0/num)\n",
    "print(\"P(X=1, Y=1)\", count_1_1/num)"
   ]
  },
  {
   "cell_type": "code",
   "execution_count": null,
   "id": "98dfdb63",
   "metadata": {},
   "outputs": [],
   "source": []
  }
 ],
 "metadata": {
  "kernelspec": {
   "display_name": "Python 3 (ipykernel)",
   "language": "python",
   "name": "python3"
  },
  "language_info": {
   "codemirror_mode": {
    "name": "ipython",
    "version": 3
   },
   "file_extension": ".py",
   "mimetype": "text/x-python",
   "name": "python",
   "nbconvert_exporter": "python",
   "pygments_lexer": "ipython3",
   "version": "3.8.10"
  }
 },
 "nbformat": 4,
 "nbformat_minor": 5
}
