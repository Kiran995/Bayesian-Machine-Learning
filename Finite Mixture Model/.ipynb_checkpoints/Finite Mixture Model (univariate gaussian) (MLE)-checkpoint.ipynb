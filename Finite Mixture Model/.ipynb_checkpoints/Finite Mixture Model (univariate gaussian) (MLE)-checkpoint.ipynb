{
 "cells": [
  {
   "cell_type": "code",
   "execution_count": 1,
   "id": "789ef32b",
   "metadata": {},
   "outputs": [],
   "source": [
    "import numpy as np\n",
    "import matplotlib.pyplot as plt\n",
    "from collections import Counter\n",
    "import itertools\n",
    "import random\n",
    "import pandas as pd\n",
    "import matplotlib \n",
    "import math\n",
    "\n",
    "matplotlib.rcParams['figure.figsize'] = (16, 16)"
   ]
  },
  {
   "cell_type": "code",
   "execution_count": 2,
   "id": "2ca1c902",
   "metadata": {},
   "outputs": [],
   "source": [
    "params = [\n",
    "    {'pi': 0.2, 'mu': 25, 'sigma': 2},\n",
    "    {'pi': 0.3, 'mu': 8, 'sigma': 1},\n",
    "    {'pi': 0.5, 'mu':20 , 'sigma':2},\n",
    "]"
   ]
  },
  {
   "cell_type": "code",
   "execution_count": 3,
   "id": "ea121861",
   "metadata": {},
   "outputs": [],
   "source": [
    "total_toss = 100\n",
    "num_cluster = len(params)"
   ]
  },
  {
   "cell_type": "code",
   "execution_count": 4,
   "id": "9d2ee70d",
   "metadata": {},
   "outputs": [],
   "source": [
    "Z = [np.random.choice(num_cluster, 1, p=[params[i]['pi'] for i in range(num_cluster)])[0] for toss in range(total_toss)]"
   ]
  },
  {
   "cell_type": "code",
   "execution_count": 5,
   "id": "c92146c2",
   "metadata": {},
   "outputs": [],
   "source": [
    "X = [(np.random.normal(params[z][\"mu\"], params[z][\"sigma\"], 1))[0] for z in Z]"
   ]
  },
  {
   "cell_type": "code",
   "execution_count": 6,
   "id": "9ce5aa1e",
   "metadata": {},
   "outputs": [],
   "source": [
    "random_Z = [np.random.choice(num_cluster, 1, p=[1/num_cluster for i in range(num_cluster)])[0] for toss in range(total_toss)] "
   ]
  },
  {
   "cell_type": "code",
   "execution_count": 7,
   "id": "f70cb460",
   "metadata": {},
   "outputs": [],
   "source": [
    "def gaussian_pdf(x, mu, sigma):\n",
    "    const = 1/np.sqrt(2*np.pi*sigma)\n",
    "    return const * np.exp(-(x - mu)**2/(2*sigma))"
   ]
  },
  {
   "cell_type": "code",
   "execution_count": 8,
   "id": "14ff196f",
   "metadata": {},
   "outputs": [],
   "source": [
    "def generate_cluster(X, x_i, random_Z):\n",
    "    clusters = {}\n",
    "    for k in range(0, num_cluster):\n",
    "        clusters[k] = []\n",
    "\n",
    "    for (x, z_i) in zip(X, random_Z):\n",
    "        if x == x_i:\n",
    "            continue\n",
    "        clusters[z_i].append(x)\n",
    "    return clusters"
   ]
  },
  {
   "cell_type": "code",
   "execution_count": 9,
   "id": "f9c0eb6a",
   "metadata": {},
   "outputs": [],
   "source": [
    "def calc_prob(x, X, random_Z, random_Z_count):\n",
    "    clusters = generate_cluster(X, x, random_Z)\n",
    "\n",
    "    prob = []\n",
    "    \n",
    "    for k in range(num_cluster):\n",
    "        mu = np.average(clusters[k])\n",
    "        sigma = np.sqrt(np.average((np.array(clusters[k]) - mu)**2))\n",
    "        prob_k = gaussian_pdf(x, mu, sigma)\n",
    "        pr = ((random_Z_count[k] + A/num_cluster) / (A - 1 + len(X))) * prob_k\n",
    "        \n",
    "        prob.append(pr)\n",
    "    return prob"
   ]
  },
  {
   "cell_type": "code",
   "execution_count": 10,
   "id": "55c6351f",
   "metadata": {},
   "outputs": [],
   "source": [
    "import math\n",
    "A =0.1 \n",
    "\n",
    "total_likelihood = []\n",
    "\n",
    "for _ in range(50):\n",
    "    random_Z_count = Counter(random_Z)\n",
    "    \n",
    "    data_likelihood = []\n",
    "    for i, (x, z) in enumerate(zip(X, random_Z)):\n",
    "        prob = calc_prob(x, X, random_Z, random_Z_count)\n",
    "\n",
    "        norm_prob = [p/np.sum(prob) for p in prob]\n",
    "        random_Z[i] = np.random.choice(num_cluster, 1, p=norm_prob)[0]\n",
    "\n",
    "        data_likelihood.append(np.log(np.sum(prob)))\n",
    "    \n",
    "    total_likelihood.append(np.sum(data_likelihood))"
   ]
  },
  {
   "cell_type": "code",
   "execution_count": 11,
   "id": "226be596",
   "metadata": {},
   "outputs": [
    {
     "data": {
      "image/png": "[encoded data removed]",
      "text/plain": [
       "<Figure size 1440x360 with 1 Axes>"
      ]
     },
     "metadata": {
      "needs_background": "light"
     },
     "output_type": "display_data"
    }
   ],
   "source": [
    "plt.figure(figsize=(20, 5))\n",
    "plt.plot(total_likelihood)\n",
    "plt.xlabel(\"Number of Iteration\")\n",
    "plt.ylabel(\"log p(x_i,z_i|X_-i, Z_-i, theta, alpha)\")\n",
    "plt.xticks([i for i in range(50)])\n",
    "\n",
    "plt.show()"
   ]
  },
  {
   "cell_type": "code",
   "execution_count": null,
   "id": "74648db9",
   "metadata": {},
   "outputs": [],
   "source": []
  }
 ],
 "metadata": {
  "kernelspec": {
   "display_name": "Python 3 (ipykernel)",
   "language": "python",
   "name": "python3"
  },
  "language_info": {
   "codemirror_mode": {
    "name": "ipython",
    "version": 3
   },
   "file_extension": ".py",
   "mimetype": "text/x-python",
   "name": "python",
   "nbconvert_exporter": "python",
   "pygments_lexer": "ipython3",
   "version": "3.8.10"
  }
 },
 "nbformat": 4,
 "nbformat_minor": 5
}
