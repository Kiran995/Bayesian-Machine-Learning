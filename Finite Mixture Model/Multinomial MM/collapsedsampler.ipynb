{
 "cells": [
  {
   "cell_type": "code",
   "execution_count": 1,
   "id": "c2635323",
   "metadata": {},
   "outputs": [],
   "source": [
    "import numpy as np\n",
    "import matplotlib.pyplot as plt\n",
    "from collections import Counter\n",
    "import itertools\n",
    "import random\n",
    "import pandas as pd\n",
    "import matplotlib \n",
    "import math\n",
    "from functools import reduce\n",
    "\n",
    "\n",
    "matplotlib.rcParams['figure.figsize'] = (16, 16)"
   ]
  },
  {
   "cell_type": "code",
   "execution_count": 2,
   "id": "5e8978c9",
   "metadata": {},
   "outputs": [],
   "source": [
    "params = [\n",
    "            {\"pi\": 0.2, \"theta\": [0.1, 0.6, 0.3]},\n",
    "            {\"pi\": 0.5, \"theta\": [0.3, 0.2, 0.5]},\n",
    "    {\"pi\": 0.3, \"theta\": [0.3, 0.2, 0.5]}\n",
    "        ]"
   ]
  },
  {
   "cell_type": "code",
   "execution_count": 3,
   "id": "165ee529",
   "metadata": {},
   "outputs": [],
   "source": [
    "total_toss = 50\n",
    "num_cluster = len(params)\n",
    "total_experiment = 100"
   ]
  },
  {
   "cell_type": "code",
   "execution_count": 4,
   "id": "ddc951aa",
   "metadata": {},
   "outputs": [],
   "source": [
    "# Z = [np.random.choice(num_cluster, 1, p=[params[i]['pi'] for i in range(num_cluster)])[0] for toss in range(total_toss)]\n",
    "def coin_toss(prob, total_toss):\n",
    "    result = []\n",
    "    for i in range(total_toss):\n",
    "        result.append(np.random.choice(len(prob), 1, p=prob)[0])\n",
    "    return result"
   ]
  },
  {
   "cell_type": "code",
   "execution_count": 5,
   "id": "42130f0e",
   "metadata": {},
   "outputs": [],
   "source": [
    "X = []\n",
    "Z = []\n",
    "\n",
    "for i in range(total_experiment):\n",
    "    coin_type = np.random.choice(len(params), 1, p=[params[0][\"pi\"], params[1][\"pi\"], params[2][\"pi\"]])[0]\n",
    "    Z.append(coin_type)\n",
    "    \n",
    "    toss = coin_toss(params[coin_type][\"theta\"], total_toss)\n",
    "    X.append(toss)"
   ]
  },
  {
   "cell_type": "code",
   "execution_count": 6,
   "id": "2713dd23",
   "metadata": {},
   "outputs": [],
   "source": [
    "def multinomial_pdf(tosses, p):\n",
    "    count = Counter(tosses)\n",
    "    const = math.factorial(len(tosses)) / (math.factorial(count[0]) * math.factorial(count[1]))\n",
    "    return const * p[0]**count[0] * p[1]**count[1]"
   ]
  },
  {
   "cell_type": "code",
   "execution_count": 7,
   "id": "257a2a18",
   "metadata": {},
   "outputs": [],
   "source": [
    "random_Z = np.random.choice(len(params), total_experiment, p=[1/num_cluster for i in range(num_cluster)])"
   ]
  },
  {
   "cell_type": "code",
   "execution_count": 8,
   "id": "23934dbe",
   "metadata": {},
   "outputs": [],
   "source": [
    "beta = [1, 1, 1]"
   ]
  },
  {
   "cell_type": "code",
   "execution_count": 9,
   "id": "aac5d0dc",
   "metadata": {},
   "outputs": [],
   "source": [
    "def test(xi, cluster, i):\n",
    "    xi_counts = Counter(xi)\n",
    "    xi_sum = len(xi)\n",
    "    \n",
    "    cluster_counts = Counter(cluster)\n",
    "    C = len(cluster)\n",
    "    B = sum(beta)\n",
    "    \n",
    "    b = beta[i]\n",
    "    num = cluster_counts[i] + b\n",
    "    \n",
    "    denom = C + B - 1\n",
    "    \n",
    "    return num/denom"
   ]
  },
  {
   "cell_type": "code",
   "execution_count": 10,
   "id": "e74b795c",
   "metadata": {},
   "outputs": [],
   "source": [
    "A = 0.1"
   ]
  },
  {
   "cell_type": "code",
   "execution_count": 11,
   "id": "fa01de6c",
   "metadata": {},
   "outputs": [],
   "source": [
    "def calc_prob(xi, random_Z, X):\n",
    "    prob = []\n",
    "    z_count = Counter(random_Z)\n",
    "    \n",
    "    clusters = {}\n",
    "    \n",
    "    for i in range(num_cluster):\n",
    "        clusters[i] = []\n",
    "\n",
    "    for i, (cx, rz) in enumerate(zip(X, random_Z)):\n",
    "        if cx == xi:\n",
    "            continue\n",
    "#         print(rz)\n",
    "        clusters[rz].extend(cx)\n",
    "        \n",
    "    for i in range(num_cluster):\n",
    "        prob_k = test(xi, clusters[i], i)\n",
    "        prob.append(((z_count[i] + A/num_cluster)/(total_experiment + num_cluster - 1)) * prob_k) \n",
    "        \n",
    "    return prob"
   ]
  },
  {
   "cell_type": "code",
   "execution_count": 12,
   "id": "27f2315e",
   "metadata": {},
   "outputs": [],
   "source": [
    "total_data_likelihood = []\n",
    "\n",
    "for j in range(20):\n",
    "    data_likelihood = []\n",
    "    for i in range(len(X)):\n",
    "        xi = X[i]\n",
    "        final_prob = calc_prob(xi, random_Z, X)\n",
    "        \n",
    "        total_prob = np.sum(final_prob)\n",
    "        prob = [p/total_prob for p in final_prob]\n",
    "        random_Z[i] = np.random.choice(num_cluster, 1, p=prob)[0]\n",
    "        \n",
    "        data_likelihood.append(np.log(np.sum(final_prob)))\n",
    "    total_data_likelihood.append(np.sum(data_likelihood))"
   ]
  },
  {
   "cell_type": "code",
   "execution_count": 13,
   "id": "e124ead4",
   "metadata": {},
   "outputs": [
    {
     "data": {
      "image/png": "[encoded data removed]",
      "text/plain": [
       "<Figure size 1440x360 with 1 Axes>"
      ]
     },
     "metadata": {
      "needs_background": "light"
     },
     "output_type": "display_data"
    }
   ],
   "source": [
    "plt.figure(figsize=(20, 5))\n",
    "plt.plot(total_data_likelihood)\n",
    "plt.xlabel(\"Number of Iteration\")\n",
    "plt.ylabel(\"log p(x_i,z_i|X_-i, Z_-i, theta, alpha)\")\n",
    "plt.xticks([i for i in range(len(total_data_likelihood))])\n",
    "plt.show()"
   ]
  },
  {
   "cell_type": "code",
   "execution_count": 14,
   "id": "40eae55f",
   "metadata": {},
   "outputs": [
    {
     "data": {
      "text/plain": [
       "Counter({2: 99, 1: 1})"
      ]
     },
     "execution_count": 14,
     "metadata": {},
     "output_type": "execute_result"
    }
   ],
   "source": [
    "Counter(random_Z)"
   ]
  },
  {
   "cell_type": "code",
   "execution_count": 15,
   "id": "38704925",
   "metadata": {},
   "outputs": [
    {
     "data": {
      "text/plain": [
       "Counter({1: 48, 0: 15, 2: 37})"
      ]
     },
     "execution_count": 15,
     "metadata": {},
     "output_type": "execute_result"
    }
   ],
   "source": [
    "Counter(Z)"
   ]
  },
  {
   "cell_type": "code",
   "execution_count": null,
   "id": "24c16ad8",
   "metadata": {},
   "outputs": [],
   "source": []
  }
 ],
 "metadata": {
  "kernelspec": {
   "display_name": "Python 3 (ipykernel)",
   "language": "python",
   "name": "python3"
  },
  "language_info": {
   "codemirror_mode": {
    "name": "ipython",
    "version": 3
   },
   "file_extension": ".py",
   "mimetype": "text/x-python",
   "name": "python",
   "nbconvert_exporter": "python",
   "pygments_lexer": "ipython3",
   "version": "3.8.10"
  }
 },
 "nbformat": 4,
 "nbformat_minor": 5
}
